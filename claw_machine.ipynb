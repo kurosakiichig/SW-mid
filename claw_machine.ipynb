{
  "cells": [
    {
      "cell_type": "markdown",
      "metadata": {
        "id": "view-in-github",
        "colab_type": "text"
      },
      "source": [
        "<a href=\"https://colab.research.google.com/github/kurosakiichig/sw-mid/blob/main/claw_machine.ipynb\" target=\"_parent\"><img src=\"https://colab.research.google.com/assets/colab-badge.svg\" alt=\"Open In Colab\"/></a>"
      ]
    },
    {
      "cell_type": "markdown",
      "id": "f9280c3d",
      "metadata": {
        "id": "f9280c3d"
      },
      "source": [
        "# Claw‑Machine Manager ·  Demo (DeepSeek API)\n"
      ]
    },
    {
      "cell_type": "code",
      "execution_count": 1,
      "id": "d430ee3b",
      "metadata": {
        "colab": {
          "base_uri": "https://localhost:8080/"
        },
        "id": "d430ee3b",
        "outputId": "ffa3b760-ce14-4b70-b823-5307fa4f1af2"
      },
      "outputs": [
        {
          "output_type": "stream",
          "name": "stdout",
          "text": [
            "\u001b[?25l   \u001b[90m━━━━━━━━━━━━━━━━━━━━━━━━━━━━━━━━━━━━━━━━\u001b[0m \u001b[32m0.0/95.2 kB\u001b[0m \u001b[31m?\u001b[0m eta \u001b[36m-:--:--\u001b[0m\r\u001b[2K   \u001b[90m━━━━━━━━━━━━━━━━━━━━━━━━━━━━━━━━━━━━━━━━\u001b[0m \u001b[32m95.2/95.2 kB\u001b[0m \u001b[31m3.6 MB/s\u001b[0m eta \u001b[36m0:00:00\u001b[0m\n",
            "\u001b[?25h\u001b[?25l   \u001b[90m━━━━━━━━━━━━━━━━━━━━━━━━━━━━━━━━━━━━━━━━\u001b[0m \u001b[32m0.0/62.5 kB\u001b[0m \u001b[31m?\u001b[0m eta \u001b[36m-:--:--\u001b[0m\r\u001b[2K   \u001b[90m━━━━━━━━━━━━━━━━━━━━━━━━━━━━━━━━━━━━━━━━\u001b[0m \u001b[32m62.5/62.5 kB\u001b[0m \u001b[31m3.6 MB/s\u001b[0m eta \u001b[36m0:00:00\u001b[0m\n",
            "\u001b[?25h\u001b[?25l   \u001b[90m━━━━━━━━━━━━━━━━━━━━━━━━━━━━━━━━━━━━━━━━\u001b[0m \u001b[32m0.0/72.0 kB\u001b[0m \u001b[31m?\u001b[0m eta \u001b[36m-:--:--\u001b[0m\r\u001b[2K   \u001b[90m━━━━━━━━━━━━━━━━━━━━━━━━━━━━━━━━━━━━━━━━\u001b[0m \u001b[32m72.0/72.0 kB\u001b[0m \u001b[31m4.0 MB/s\u001b[0m eta \u001b[36m0:00:00\u001b[0m\n",
            "\u001b[?25h"
          ]
        }
      ],
      "source": [
        "!pip -q install fastapi uvicorn pyngrok sqlmodel nest_asyncio requests"
      ]
    },
    {
      "cell_type": "code",
      "execution_count": 2,
      "id": "721312bd",
      "metadata": {
        "colab": {
          "base_uri": "https://localhost:8080/"
        },
        "id": "721312bd",
        "outputId": "fcbf6594-75de-4b82-a63e-cc6039a82fbc"
      },
      "outputs": [
        {
          "output_type": "stream",
          "name": "stdout",
          "text": []
        }
      ],
      "source": [
        "\n",
        "# === 密钥设置 ===\n",
        "import os\n",
        "from pyngrok import ngrok\n",
        "NGROK_AUTHTOKEN = \"2wFDwOVo0v0rYngb7CBWfVqyKjX_6XkBmGWKwxFhmVz59E2fo\"\n",
        "DEEPSEEK_API_KEY = \"sk-b44c2b6a72684c718c0851bbf6dbf146\"\n",
        "\n",
        "ngrok.set_auth_token(NGROK_AUTHTOKEN)\n"
      ]
    },
    {
      "cell_type": "code",
      "execution_count": 3,
      "id": "6c5e1ef4",
      "metadata": {
        "colab": {
          "base_uri": "https://localhost:8080/"
        },
        "id": "6c5e1ef4",
        "outputId": "7a0a271d-6db8-4ad2-9100-a253ad797bb2"
      },
      "outputs": [
        {
          "output_type": "stream",
          "name": "stdout",
          "text": [
            "DB init done\n"
          ]
        }
      ],
      "source": [
        "\n",
        "from sqlmodel import SQLModel, Field, create_engine, Session, select\n",
        "import nest_asyncio, threading, subprocess, time, json, requests\n",
        "nest_asyncio.apply()\n",
        "SQLModel.metadata.clear()\n",
        "engine=create_engine(\"sqlite:///claw.db\")\n",
        "class Item(SQLModel, table=True, extend_existing=True):\n",
        "    id:int|None=Field(default=None, primary_key=True)\n",
        "    machine_id:str\n",
        "    item_name:str\n",
        "    stock:int\n",
        "    wins:int=0\n",
        "SQLModel.metadata.create_all(engine)\n",
        "seed=[{\"machine_id\":\"M02\",\"item_name\":\"皮卡丘\",\"stock\":10,\"wins\":3}]\n",
        "with Session(engine) as s:\n",
        "    if not s.exec(select(Item)).first():\n",
        "        s.add_all([Item(**r) for r in seed]); s.commit()\n",
        "print(\"DB init done\")\n"
      ]
    },
    {
      "cell_type": "code",
      "execution_count": 4,
      "id": "bc93f8cd",
      "metadata": {
        "id": "bc93f8cd"
      },
      "outputs": [],
      "source": [
        "\n",
        "from fastapi import FastAPI, HTTPException\n",
        "app=FastAPI()\n",
        "@app.get(\"/status/{mid}\")\n",
        "def status(mid:str):\n",
        "    with Session(engine) as sess:\n",
        "        rows=sess.exec(select(Item).where(Item.machine_id==mid)).all()\n",
        "        if not rows: raise HTTPException(404)\n",
        "        return rows\n",
        "def run_uvicorn():\n",
        "    subprocess.Popen([\"uvicorn\",\"app:app\",\"--host\",\"0.0.0.0\",\"--port\",\"8000\"])\n",
        "threading.Thread(target=run_uvicorn,daemon=True).start()\n",
        "time.sleep(3)\n"
      ]
    },
    {
      "cell_type": "code",
      "execution_count": 5,
      "id": "5b009014",
      "metadata": {
        "colab": {
          "base_uri": "https://localhost:8080/"
        },
        "id": "5b009014",
        "outputId": "99c96eda-6282-40e0-fb62-c09dd9621fa0"
      },
      "outputs": [
        {
          "output_type": "stream",
          "name": "stdout",
          "text": [
            "Public URL: https://4d14-35-238-69-191.ngrok-free.app\n"
          ]
        }
      ],
      "source": [
        "\n",
        "# ngrok 单隧道\n",
        "for t in ngrok.get_tunnels():\n",
        "    ngrok.disconnect(t.public_url)\n",
        "public_url=ngrok.connect(8000).public_url\n",
        "print(\"Public URL:\", public_url)\n"
      ]
    },
    {
      "cell_type": "code",
      "execution_count": 11,
      "id": "84b12a53",
      "metadata": {
        "colab": {
          "base_uri": "https://localhost:8080/"
        },
        "id": "84b12a53",
        "outputId": "92e18ede-640b-49fb-b0ee-420ba87151e5"
      },
      "outputs": [
        {
          "output_type": "stream",
          "name": "stdout",
          "text": [
            "The number of Pikachu left in Doll Machine No. 2 depends on the specific arcade or location you're referring to, as these machines are restocked manually by staff. There's no universal or real-time tracking system for such information.  \n",
            "\n",
            "To find out:  \n",
            "1. **Ask the arcade staff** – They can check or restock the machine if needed.  \n",
            "2. **Inspect the machine visually** – Some machines have transparent cases where you can count remaining prizes.  \n",
            "3. **Check if the arcade has a digital tracker** – Rarely, some modern machines display remaining stock.  \n",
            "\n",
            "If you're referring to a *specific game or fictional scenario* (e.g., Pokémon lore), let me know! Otherwise, your best bet is to visit the location or call ahead.  \n",
            "\n",
            "Would you like tips on winning Pikachu from the machine? 😊\n"
          ]
        }
      ],
      "source": [
        "\n",
        "def ds_chat(prompt:str):\n",
        "    url=\"https://api.deepseek.com/v1/chat/completions\"\n",
        "    headers={\"Authorization\":f\"Bearer {DEEPSEEK_API_KEY}\",\"Content-Type\":\"application/json\"}\n",
        "    payload={\"model\":\"deepseek-chat\",\"messages\":[{\"role\":\"user\",\"content\":prompt}]}\n",
        "    r=requests.post(url,headers=headers,json=payload,timeout=60)\n",
        "    r.raise_for_status()\n",
        "    return r.json()[\"choices\"][0][\"message\"][\"content\"]\n",
        "\n",
        "def smart_chat(q:str):\n",
        "    if \"how many\" in q:\n",
        "        data=requests.get(f\"{public_url}/status/M02\").json()\n",
        "        return f\"Inventory details: {data}\"\n",
        "    return ds_chat(q)\n",
        "\n",
        "print(smart_chat(\"How many Pikachu are left in Doll Machine No. 2?\"))\n"
      ]
    }
  ],
  "metadata": {
    "colab": {
      "provenance": [],
      "include_colab_link": true
    },
    "language_info": {
      "name": "python"
    },
    "kernelspec": {
      "name": "python3",
      "display_name": "Python 3"
    }
  },
  "nbformat": 4,
  "nbformat_minor": 5
}